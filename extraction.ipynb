{
 "cells": [
  {
   "cell_type": "markdown",
   "id": "a7a07d82",
   "metadata": {},
   "source": [
    "Olá! Este Notebook é um desafio de projeto Explorando IA Generativa em um Pipeline de ETL com Python, do Santander Bootcamp 2023 - Ciência de Dados com Python.\n",
    "\n",
    "Estarei usando dados de um projeto de análise de negócios que trabalhei no passado. No caso, o negócio era uma importadora de vinhos e nos foi enviado dados de venda dos últimos 5 anos no formato excel.\n",
    "\n",
    "A ideia é elaborar uma pipeline ETL simples usando a API da OpenAI para gerar conteúdo. E o meu projeto consiste em gerar informação de harmonização para cada um dos rótulos no portifólio."
   ]
  },
  {
   "cell_type": "code",
   "execution_count": 1,
   "id": "d3e0b1ef",
   "metadata": {},
   "outputs": [],
   "source": [
    "import pandas as pd"
   ]
  },
  {
   "cell_type": "code",
   "execution_count": 2,
   "id": "01ca64e4",
   "metadata": {},
   "outputs": [],
   "source": [
    "df = pd.read_excel('relatorio_2016_2022.xlsx')"
   ]
  },
  {
   "cell_type": "markdown",
   "id": "900a91f5",
   "metadata": {},
   "source": [
    "Abaixo, das colunas existentes no relatório, iremos necessitar apenas de três:\n",
    "'COD PRODUTO', 'DESCRIÇÃO' e 'REGIAO'"
   ]
  },
  {
   "cell_type": "code",
   "execution_count": 3,
   "id": "db9886c8",
   "metadata": {},
   "outputs": [
    {
     "name": "stdout",
     "output_type": "stream",
     "text": [
      "<class 'pandas.core.frame.DataFrame'>\n",
      "RangeIndex: 51382 entries, 0 to 51381\n",
      "Data columns (total 15 columns):\n",
      " #   Column         Non-Null Count  Dtype         \n",
      "---  ------         --------------  -----         \n",
      " 0   DATA           51382 non-null  datetime64[ns]\n",
      " 1   CLIENTE        51382 non-null  object        \n",
      " 2   VENDEDOR       51382 non-null  object        \n",
      " 3   Nome Fantasia  40895 non-null  object        \n",
      " 4   Bairro         51382 non-null  object        \n",
      " 5   Cidade         51382 non-null  object        \n",
      " 6   UF             51382 non-null  object        \n",
      " 7   NF             51382 non-null  int64         \n",
      " 8   COD PRODUTO    51382 non-null  object        \n",
      " 9   DESCRIÇÃO      51382 non-null  object        \n",
      " 10  PREÇO          51382 non-null  float64       \n",
      " 11  QTD            51382 non-null  int64         \n",
      " 12  TOT            51382 non-null  float64       \n",
      " 13  FORNECEDOR     51382 non-null  object        \n",
      " 14  REGIAO         51382 non-null  object        \n",
      "dtypes: datetime64[ns](1), float64(2), int64(2), object(10)\n",
      "memory usage: 5.9+ MB\n"
     ]
    }
   ],
   "source": [
    "df.info()"
   ]
  },
  {
   "cell_type": "code",
   "execution_count": 4,
   "id": "1334fa42",
   "metadata": {},
   "outputs": [
    {
     "data": {
      "text/html": [
       "<div>\n",
       "<style scoped>\n",
       "    .dataframe tbody tr th:only-of-type {\n",
       "        vertical-align: middle;\n",
       "    }\n",
       "\n",
       "    .dataframe tbody tr th {\n",
       "        vertical-align: top;\n",
       "    }\n",
       "\n",
       "    .dataframe thead th {\n",
       "        text-align: right;\n",
       "    }\n",
       "</style>\n",
       "<table border=\"1\" class=\"dataframe\">\n",
       "  <thead>\n",
       "    <tr style=\"text-align: right;\">\n",
       "      <th></th>\n",
       "      <th>COD PRODUTO</th>\n",
       "      <th>DESCRIÇÃO</th>\n",
       "      <th>REGIAO</th>\n",
       "    </tr>\n",
       "  </thead>\n",
       "  <tbody>\n",
       "    <tr>\n",
       "      <th>0</th>\n",
       "      <td>46727</td>\n",
       "      <td>VINHO TINTO PORTAL CARMENERE RESERVA</td>\n",
       "      <td>CHILE - VALE CENTRAL</td>\n",
       "    </tr>\n",
       "    <tr>\n",
       "      <th>1</th>\n",
       "      <td>46729</td>\n",
       "      <td>VINHO BRANCO PORTAL SAUVIGNON BLANC RESERVA</td>\n",
       "      <td>CHILE - VALE CENTRAL</td>\n",
       "    </tr>\n",
       "    <tr>\n",
       "      <th>2</th>\n",
       "      <td>L12280</td>\n",
       "      <td>VINHO TINTO PORTAL CABERNET/CARMENERE</td>\n",
       "      <td>CHILE - VALE CENTRAL</td>\n",
       "    </tr>\n",
       "    <tr>\n",
       "      <th>3</th>\n",
       "      <td>L892686</td>\n",
       "      <td>VINHO TINTO LOMA LARGA CABERNET FRANC</td>\n",
       "      <td>CHILE - CASABLANCA</td>\n",
       "    </tr>\n",
       "    <tr>\n",
       "      <th>4</th>\n",
       "      <td>46726</td>\n",
       "      <td>VINHO TINTO PORTAL CABERNET SAUVIGNON RESERVA</td>\n",
       "      <td>CHILE - VALE CENTRAL</td>\n",
       "    </tr>\n",
       "  </tbody>\n",
       "</table>\n",
       "</div>"
      ],
      "text/plain": [
       "  COD PRODUTO                                      DESCRIÇÃO  \\\n",
       "0       46727           VINHO TINTO PORTAL CARMENERE RESERVA   \n",
       "1       46729    VINHO BRANCO PORTAL SAUVIGNON BLANC RESERVA   \n",
       "2      L12280          VINHO TINTO PORTAL CABERNET/CARMENERE   \n",
       "3     L892686          VINHO TINTO LOMA LARGA CABERNET FRANC   \n",
       "4       46726  VINHO TINTO PORTAL CABERNET SAUVIGNON RESERVA   \n",
       "\n",
       "                 REGIAO  \n",
       "0  CHILE - VALE CENTRAL  \n",
       "1  CHILE - VALE CENTRAL  \n",
       "2  CHILE - VALE CENTRAL  \n",
       "3    CHILE - CASABLANCA  \n",
       "4  CHILE - VALE CENTRAL  "
      ]
     },
     "execution_count": 4,
     "metadata": {},
     "output_type": "execute_result"
    }
   ],
   "source": [
    "df[['COD PRODUTO', 'DESCRIÇÃO', 'REGIAO']].head()"
   ]
  },
  {
   "cell_type": "markdown",
   "id": "007330a6",
   "metadata": {},
   "source": [
    "Também só iremos gerar conteúdo para os produtos que foram vendidos no ano de 2022."
   ]
  },
  {
   "cell_type": "code",
   "execution_count": 5,
   "id": "7e4afc94",
   "metadata": {},
   "outputs": [],
   "source": [
    "wines = df[df.DATA > \"2021-12-31\"][['COD PRODUTO', 'DESCRIÇÃO', 'REGIAO']].groupby('DESCRIÇÃO').first().reset_index()"
   ]
  },
  {
   "cell_type": "code",
   "execution_count": 6,
   "id": "f7d921e6",
   "metadata": {
    "scrolled": true
   },
   "outputs": [
    {
     "data": {
      "text/html": [
       "<div>\n",
       "<style scoped>\n",
       "    .dataframe tbody tr th:only-of-type {\n",
       "        vertical-align: middle;\n",
       "    }\n",
       "\n",
       "    .dataframe tbody tr th {\n",
       "        vertical-align: top;\n",
       "    }\n",
       "\n",
       "    .dataframe thead th {\n",
       "        text-align: right;\n",
       "    }\n",
       "</style>\n",
       "<table border=\"1\" class=\"dataframe\">\n",
       "  <thead>\n",
       "    <tr style=\"text-align: right;\">\n",
       "      <th></th>\n",
       "      <th>DESCRIÇÃO</th>\n",
       "      <th>COD PRODUTO</th>\n",
       "      <th>REGIAO</th>\n",
       "    </tr>\n",
       "  </thead>\n",
       "  <tbody>\n",
       "    <tr>\n",
       "      <th>0</th>\n",
       "      <td>VINHO BRANCO AFRICAN HERITAGE CHARDONNAY</td>\n",
       "      <td>AHCHA</td>\n",
       "      <td>AFRICA DO SUL - WESTERN CAPE</td>\n",
       "    </tr>\n",
       "    <tr>\n",
       "      <th>1</th>\n",
       "      <td>VINHO BRANCO AFRICAN HERITAGE CHENIN BLANC</td>\n",
       "      <td>AHCHEB</td>\n",
       "      <td>AFRICA DO SUL - COASTAL REGION</td>\n",
       "    </tr>\n",
       "    <tr>\n",
       "      <th>2</th>\n",
       "      <td>VINHO BRANCO AFRICAN HERITAGE SAUVIGNON BLANC</td>\n",
       "      <td>AHSB</td>\n",
       "      <td>AFRICA DO SUL - WESTERN CAPE</td>\n",
       "    </tr>\n",
       "    <tr>\n",
       "      <th>3</th>\n",
       "      <td>VINHO BRANCO AGUIA MOURA RESERVA</td>\n",
       "      <td>AMOURABR</td>\n",
       "      <td>PORTUGAL - DOURO</td>\n",
       "    </tr>\n",
       "    <tr>\n",
       "      <th>4</th>\n",
       "      <td>VINHO BRANCO ESPUMANTE - NUÀ BRUT</td>\n",
       "      <td>CDNUAB</td>\n",
       "      <td>ITALIA - PIEMONTE</td>\n",
       "    </tr>\n",
       "  </tbody>\n",
       "</table>\n",
       "</div>"
      ],
      "text/plain": [
       "                                       DESCRIÇÃO COD PRODUTO  \\\n",
       "0       VINHO BRANCO AFRICAN HERITAGE CHARDONNAY       AHCHA   \n",
       "1     VINHO BRANCO AFRICAN HERITAGE CHENIN BLANC      AHCHEB   \n",
       "2  VINHO BRANCO AFRICAN HERITAGE SAUVIGNON BLANC        AHSB   \n",
       "3               VINHO BRANCO AGUIA MOURA RESERVA    AMOURABR   \n",
       "4              VINHO BRANCO ESPUMANTE - NUÀ BRUT      CDNUAB   \n",
       "\n",
       "                           REGIAO  \n",
       "0    AFRICA DO SUL - WESTERN CAPE  \n",
       "1  AFRICA DO SUL - COASTAL REGION  \n",
       "2    AFRICA DO SUL - WESTERN CAPE  \n",
       "3                PORTUGAL - DOURO  \n",
       "4               ITALIA - PIEMONTE  "
      ]
     },
     "execution_count": 6,
     "metadata": {},
     "output_type": "execute_result"
    }
   ],
   "source": [
    "wines.head()"
   ]
  },
  {
   "cell_type": "markdown",
   "id": "91aef3eb",
   "metadata": {},
   "source": [
    "Com os dados devidamente extraídos iremos agora adicionar conteúdo a cada rótulo do portifólio, usando a API."
   ]
  },
  {
   "cell_type": "code",
   "execution_count": 7,
   "id": "81803952",
   "metadata": {},
   "outputs": [],
   "source": [
    "import openai\n",
    "\n",
    "f = open('openAI_token.txt', 'r')\n",
    "token = f.readline()\n",
    "\n",
    "openai.api_key = token"
   ]
  },
  {
   "cell_type": "markdown",
   "id": "5c6036e9",
   "metadata": {},
   "source": [
    "Abaixo, criei esta função que retorna dicas de harmonização baseado no título do produto."
   ]
  },
  {
   "cell_type": "code",
   "execution_count": 8,
   "id": "43ddf6ea",
   "metadata": {},
   "outputs": [],
   "source": [
    "def generate_harmonization_text(wine):\n",
    "    completion = openai.ChatCompletion.create(\n",
    "        model = \"gpt-4\",\n",
    "        messages = [\n",
    "            {\n",
    "                \"role\" : \"system\",\n",
    "                \"content\" : \"Você é um sommelier.\"\n",
    "            },\n",
    "            {\n",
    "                \"role\" : \"user\",\n",
    "                \"content\": f\"Crie dicas de harmonização para o vinho {wine} com até 256 caracteres.\"\n",
    "            }\n",
    "        ]\n",
    "    )\n",
    "    \n",
    "    return completion.choices[0].message.content.strip('\\\"')"
   ]
  },
  {
   "cell_type": "markdown",
   "id": "00157518",
   "metadata": {},
   "source": [
    "Adicionando a coluna de HARMONIZACAO ao DataFrame dos produtos."
   ]
  },
  {
   "cell_type": "code",
   "execution_count": 9,
   "id": "157c7ca2",
   "metadata": {},
   "outputs": [],
   "source": [
    "wines[\"HARMONIZACAO\"] = wines.REGIAO.apply(lambda x: \"\")"
   ]
  },
  {
   "cell_type": "markdown",
   "id": "c5836099",
   "metadata": {},
   "source": [
    "Abaixo será feita a iteração do DataFrame, adicionando as informações de harmonização à coluna correspondente."
   ]
  },
  {
   "cell_type": "code",
   "execution_count": null,
   "id": "bf1ea491",
   "metadata": {},
   "outputs": [],
   "source": [
    "for i, row in wines.iterrows():\n",
    "    harmoniz = generate_harmonization_text(row[\"DESCRIÇÃO\"])\n",
    "    wines.at[i, \"HARMONIZACAO\"] = harmoniz"
   ]
  },
  {
   "cell_type": "markdown",
   "id": "69033b78",
   "metadata": {},
   "source": [
    "Uma prévia do resultado."
   ]
  },
  {
   "cell_type": "code",
   "execution_count": null,
   "id": "6e3d1d48",
   "metadata": {},
   "outputs": [],
   "source": [
    "wines.HARMONIZACAO.head()"
   ]
  },
  {
   "cell_type": "markdown",
   "id": "6b7301cc",
   "metadata": {},
   "source": [
    "Por fim, exporto o resultado em um novo arquivo excel."
   ]
  },
  {
   "cell_type": "code",
   "execution_count": null,
   "id": "52d4a4fd",
   "metadata": {},
   "outputs": [],
   "source": [
    "wines.to_excel('wines_harmonized.xlsx')"
   ]
  }
 ],
 "metadata": {
  "kernelspec": {
   "display_name": "Python 3 (ipykernel)",
   "language": "python",
   "name": "python3"
  },
  "language_info": {
   "codemirror_mode": {
    "name": "ipython",
    "version": 3
   },
   "file_extension": ".py",
   "mimetype": "text/x-python",
   "name": "python",
   "nbconvert_exporter": "python",
   "pygments_lexer": "ipython3",
   "version": "3.9.13"
  }
 },
 "nbformat": 4,
 "nbformat_minor": 5
}
